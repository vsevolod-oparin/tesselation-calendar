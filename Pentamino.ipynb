{
 "cells": [
  {
   "cell_type": "code",
   "execution_count": 1,
   "metadata": {},
   "outputs": [],
   "source": [
    "import json"
   ]
  },
  {
   "cell_type": "code",
   "execution_count": 2,
   "metadata": {},
   "outputs": [],
   "source": [
    "pentaminoes_str = '''\n",
    ".*.\n",
    "***\n",
    ".*.\n",
    "\n",
    "*\n",
    "*\n",
    "*\n",
    "*\n",
    "*\n",
    "\n",
    "***\n",
    "*.*\n",
    "\n",
    "..*\n",
    ".**\n",
    "**.\n",
    "\n",
    "*..\n",
    "*..\n",
    "***\n",
    "\n",
    "*..\n",
    "***\n",
    "..*\n",
    "\n",
    "*..\n",
    "***\n",
    "*..\n",
    "\n",
    "**.\n",
    ".**\n",
    ".*.\n",
    "\n",
    "****\n",
    "..*.\n",
    "\n",
    ".*\n",
    ".*\n",
    "**\n",
    "*.\n",
    "\n",
    ".*\n",
    "**\n",
    "**\n",
    "\n",
    "...*\n",
    "****\n",
    "'''"
   ]
  },
  {
   "cell_type": "code",
   "execution_count": 3,
   "metadata": {},
   "outputs": [],
   "source": [
    "pentaminoes = [p.strip() for p in pentaminoes_str.split('\\n\\n')]"
   ]
  },
  {
   "cell_type": "code",
   "execution_count": 4,
   "metadata": {},
   "outputs": [],
   "source": [
    "def flip_vertical(p):\n",
    "    return '\\n'.join(p.split('\\n')[::-1])\n",
    "\n",
    "def flip_horizontal(p):\n",
    "    return '\\n'.join(s[::-1] for s in p.split('\\n'))\n",
    "\n",
    "def transpose(p):\n",
    "    toks = p.split('\\n')\n",
    "    return '\\n'.join(\n",
    "        ''.join(tok[i] for tok in toks) \n",
    "        for i in range(len(toks[0]))\n",
    "    )\n",
    "\n",
    "def flip_flop(p):\n",
    "    funcs = [\n",
    "        flip_vertical,\n",
    "        flip_horizontal,\n",
    "        transpose\n",
    "    ]\n",
    "    s = set()\n",
    "    for i in range(8):\n",
    "        result = p\n",
    "        for j in range(3):\n",
    "            if (i & (1 << j)) != 0:\n",
    "                result = funcs[j](result)\n",
    "        s.add(result)\n",
    "    return s"
   ]
  },
  {
   "cell_type": "code",
   "execution_count": 5,
   "metadata": {},
   "outputs": [],
   "source": [
    "def dims(p):\n",
    "    toks = p.split('\\n')\n",
    "    return len(toks), len(toks[0])\n",
    "\n",
    "def shift(p, sr, sc):\n",
    "    toks = p.split('\\n')\n",
    "    r, c = len(toks), len(toks[0])\n",
    "    result = []\n",
    "    for ir in range(8):\n",
    "        if ir < sr or ir >= sr + r:\n",
    "            result.append('.' * 8)\n",
    "        else:\n",
    "            result.append(\n",
    "                '.' * sc +\n",
    "                toks[ir - sr] +\n",
    "                '.' * (8 - sc - len(toks[ir - sr]))\n",
    "            )\n",
    "    return '\\n'.join(result)\n",
    "\n",
    "def all_shifts(p):\n",
    "    r, c = dims(p)\n",
    "    result = []\n",
    "    for ir in range(8 - r + 1):\n",
    "        for ic in range(8 - c + 1):\n",
    "            result.append(shift(p, ir, ic))\n",
    "    return result"
   ]
  },
  {
   "cell_type": "code",
   "execution_count": 6,
   "metadata": {},
   "outputs": [
    {
     "data": {
      "text/plain": [
       "True"
      ]
     },
     "execution_count": 6,
     "metadata": {},
     "output_type": "execute_result"
    }
   ],
   "source": [
    "test = '''\n",
    ".....*..\n",
    ".*......\n",
    "..*.....\n",
    "..*.....\n",
    "........\n",
    "........\n",
    "........\n",
    "........\n",
    "'''.strip()\n",
    "\n",
    "def to_bin(field):\n",
    "    toks = field.strip().split('\\n')\n",
    "    result = 0\n",
    "    for tok in toks:\n",
    "        result <<= 8\n",
    "        for i in range(len(tok)):\n",
    "            if tok[i] == '*':\n",
    "                result |= 1 << i\n",
    "    return result\n",
    "\n",
    "def from_bin(value, sub = '*'):\n",
    "    result = []\n",
    "    for i in range(8):\n",
    "        tok_value = ((value >> (i * 8)) & 255)\n",
    "        result.append(''.join(\n",
    "            sub if (tok_value & (1 << j)) != 0 else '.' \n",
    "            for j in range(8)\n",
    "        ))\n",
    "    return '\\n'.join(result[::-1])\n",
    "\n",
    "test == from_bin(to_bin(test))"
   ]
  },
  {
   "cell_type": "code",
   "execution_count": 7,
   "metadata": {},
   "outputs": [],
   "source": [
    "def all_pentaminoes_bin():\n",
    "    result = []\n",
    "    for i in range(len(pentaminoes)):\n",
    "        p = pentaminoes[i]\n",
    "        sub_result = []\n",
    "        for sub_p in flip_flop(p):\n",
    "            for sub_shift in all_shifts(sub_p):\n",
    "                sub_result.append(to_bin(sub_shift))\n",
    "        result.append(sub_result)\n",
    "    return result\n",
    "\n",
    "pentaminoes_bin = all_pentaminoes_bin()"
   ]
  },
  {
   "cell_type": "code",
   "execution_count": 8,
   "metadata": {},
   "outputs": [],
   "source": [
    "def all_bin_per_cell():\n",
    "    result = {}\n",
    "    for cell in range(64):\n",
    "        result[cell] = {}\n",
    "        for i in range(len(pentaminoes_bin)):\n",
    "            result[cell][i] = []\n",
    "            for bin_val in pentaminoes_bin[i]:\n",
    "                if (bin_val & (1 << cell)) != 0:\n",
    "                    result[cell][i].append(bin_val)\n",
    "    return result\n",
    "\n",
    "bin_per_cell = all_bin_per_cell()"
   ]
  },
  {
   "cell_type": "code",
   "execution_count": 20,
   "metadata": {},
   "outputs": [],
   "source": [
    "def task_month(month):\n",
    "    month -= 1\n",
    "    return shift('**', month // 4, 2 * (month % 4))\n",
    "\n",
    "def task_day(day):\n",
    "    if day == 31:\n",
    "        return shift('*', 7, 7)\n",
    "    if day <= 24:\n",
    "        day -= 1\n",
    "        return shift('*', 3 + day // 8, day % 8)\n",
    "    else:\n",
    "        return shift('*', 6, day - 25 + 1)\n",
    "\n",
    "def task_weekday(day):\n",
    "    day = 0 if day == 7 else day\n",
    "    return shift('*', 7, day)\n",
    "    \n",
    "def task(month, day, weekday):\n",
    "    value = to_bin(task_month(month)) | to_bin(task_day(day)) | to_bin(task_weekday(weekday))\n",
    "    return value"
   ]
  },
  {
   "cell_type": "code",
   "execution_count": 18,
   "metadata": {},
   "outputs": [],
   "source": [
    "def task_set():\n",
    "    result = {}\n",
    "    for m in range(1, 12 + 1):\n",
    "        for d in range(1, 31 + 1):\n",
    "            for wd in range(1, 7 + 1):\n",
    "                result['{}/{}/{}'.format(m, d, wd)] = task(m, d, wd)\n",
    "    return result\n",
    "\n",
    "tasks = task_set()"
   ]
  },
  {
   "cell_type": "code",
   "execution_count": 19,
   "metadata": {},
   "outputs": [],
   "source": [
    "def write_tasks(fpath, tasks_to_store):\n",
    "    with open(fpath, 'w') as f:\n",
    "        for k in tasks_to_store:\n",
    "            f.write('{} {}\\n'.format(k, tasks_to_store[k]))\n",
    "            \n",
    "write_tasks(\"cruncher/task.data\", tasks)"
   ]
  },
  {
   "cell_type": "code",
   "execution_count": 12,
   "metadata": {},
   "outputs": [],
   "source": [
    "def write_masks(fpath):\n",
    "    with open(fpath, 'w') as f:\n",
    "        for c in range(64):\n",
    "            for p in range(12):\n",
    "                masks = bin_per_cell[c][p]\n",
    "                f.write('{} {}\\n'.format(\n",
    "                    len(masks),\n",
    "                    \" \".join(str(mask) for mask in masks)\n",
    "                ))\n",
    "                \n",
    "write_masks(\"cruncher/cpm.data\")"
   ]
  },
  {
   "cell_type": "code",
   "execution_count": 13,
   "metadata": {},
   "outputs": [],
   "source": [
    "output_test = \"2 16185937060769562624 10 505247583195627520 7 1732768752723820544 0 18260963992010752 6 4521432331583488 9 4415428231168 5 12918849536 8 551915913216 4 1880100864 11 69376 3 2121920 1 62\"\n",
    "\n",
    "def combine(masks):\n",
    "    base = from_bin(0)\n",
    "    result = []\n",
    "    for i in range(len(base)):\n",
    "        if base[i] != '.':\n",
    "            result.append(base[i])\n",
    "            continue;\n",
    "        cand = base[i];\n",
    "        for mask in masks:\n",
    "            if mask[i] != '.':\n",
    "                cand = mask[i]\n",
    "        result.append(cand)\n",
    "    return ''.join(result)\n",
    "        \n",
    "\n",
    "def parse_output(output):\n",
    "    toks = output.split(' ')\n",
    "    result = {chr(int(xs) + ord('a')): int(ys) for xs, ys in zip(toks[0::2], toks[1::2])}\n",
    "    masks = [from_bin(result[key], key) for key in result]\n",
    "    return combine(masks)"
   ]
  },
  {
   "cell_type": "code",
   "execution_count": 65,
   "metadata": {},
   "outputs": [],
   "source": [
    "def parse_solutions(sol_file):\n",
    "    with open(sol_file, 'r') as f:\n",
    "        lines = [l.strip() for l in f.readlines() if l.strip()]\n",
    "\n",
    "    result = {}\n",
    "    for l in lines:\n",
    "        toks = l.split(' ')\n",
    "        date = toks[0]\n",
    "        pattern = from_bin(int(toks[1]))\n",
    "        tesselation = parse_output(' '.join(toks[2:]))\n",
    "        result[date] = {\n",
    "            'pattern': pattern,\n",
    "            'tessellation': tesselation,\n",
    "        }\n",
    "    return result\n",
    "\n",
    "solutions = parse_solutions('cruncher/solutions_standard.data')"
   ]
  },
  {
   "cell_type": "code",
   "execution_count": 67,
   "metadata": {},
   "outputs": [
    {
     "name": "stdout",
     "output_type": "stream",
     "text": [
      "......**\n",
      "........\n",
      "........\n",
      ".*......\n",
      "........\n",
      "........\n",
      "........\n",
      ".....*..\n",
      "\n",
      "efiiii..\n",
      "efffiall\n",
      "eeefaaal\n",
      "b.jjjagl\n",
      "bjjhgggl\n",
      "bcchhdgk\n",
      "bchhddkk\n",
      "bccdd.kk\n"
     ]
    }
   ],
   "source": [
    "print(solutions['4/2/5']['pattern'])\n",
    "print()\n",
    "print(solutions['4/2/5']['tessellation'])"
   ]
  },
  {
   "cell_type": "code",
   "execution_count": 68,
   "metadata": {},
   "outputs": [],
   "source": [
    "with open('tessellation.json', 'w') as f:\n",
    "    f.write(json.dumps(solutions))"
   ]
  },
  {
   "cell_type": "code",
   "execution_count": 69,
   "metadata": {},
   "outputs": [],
   "source": [
    "with open('tessellation.txt', 'w') as f:\n",
    "    for k in tasks:\n",
    "        f.write('{}\\n{}\\n\\n'.format(k, solutions[k]['tessellation']))"
   ]
  },
  {
   "cell_type": "code",
   "execution_count": 44,
   "metadata": {},
   "outputs": [],
   "source": [
    "def task_year_extended(year):\n",
    "    year -= 2021\n",
    "    return shift('*', year // 4, year % 4)\n",
    "\n",
    "def task_month_extended(month):\n",
    "    month -= 1\n",
    "    return shift('*', month // 4, 4 + month % 4)\n",
    "\n",
    "def task_extended(year, month, day, weekday):\n",
    "    return \\\n",
    "        to_bin(task_year_extended(year)) | \\\n",
    "        to_bin(task_month_extended(month)) | \\\n",
    "        to_bin(task_day(day)) | \\\n",
    "        to_bin(task_weekday(weekday))"
   ]
  },
  {
   "cell_type": "code",
   "execution_count": 45,
   "metadata": {},
   "outputs": [],
   "source": [
    "def task_set_extended():\n",
    "    result = {}\n",
    "    for y in range(2021, 2032 + 1):\n",
    "        for m in range(1, 12 + 1):\n",
    "            for d in range(1, 31 + 1):\n",
    "                for wd in range(1, 7 + 1):\n",
    "                    result['{}/{}/{}/{}'.format(y, m, d, wd)] = task_extended(y, m, d, wd)\n",
    "    return result\n",
    "\n",
    "tasks_extended = task_set_extended()"
   ]
  },
  {
   "cell_type": "code",
   "execution_count": 46,
   "metadata": {},
   "outputs": [],
   "source": [
    "write_tasks(\"cruncher/task_extended.data\", tasks_extended)"
   ]
  },
  {
   "cell_type": "code",
   "execution_count": 48,
   "metadata": {},
   "outputs": [],
   "source": [
    "solutions_extended = parse_solutions('cruncher/solutions_extended.data')"
   ]
  },
  {
   "cell_type": "code",
   "execution_count": 62,
   "metadata": {},
   "outputs": [
    {
     "name": "stdout",
     "output_type": "stream",
     "text": [
      ".*....*.\n",
      "........\n",
      "........\n",
      ".*......\n",
      "........\n",
      "........\n",
      "........\n",
      ".....*..\n",
      "\n",
      "k.hjjj.e\n",
      "kkhhhjje\n",
      "kkghaeee\n",
      "b.gaaadd\n",
      "bgggaddl\n",
      "biiiidfl\n",
      "bcicfffl\n",
      "bcccf.ll\n"
     ]
    }
   ],
   "source": [
    "print(solutions_extended['2022/3/2/5']['pattern'])\n",
    "print()\n",
    "print(solutions_extended['2022/3/2/5']['tessellation'])"
   ]
  },
  {
   "cell_type": "code",
   "execution_count": 64,
   "metadata": {},
   "outputs": [],
   "source": [
    "with open('tessellation_extended.json', 'w') as f:\n",
    "    f.write(json.dumps(solutions_extended))\n",
    "\n",
    "with open('tessellation_extended.txt', 'w') as f:\n",
    "    for k in tasks_extended:\n",
    "        f.write('{}\\n{}\\n\\n'.format(k, solutions_extended[k]['tessellation']))"
   ]
  },
  {
   "cell_type": "code",
   "execution_count": null,
   "metadata": {},
   "outputs": [],
   "source": []
  }
 ],
 "metadata": {
  "kernelspec": {
   "display_name": "Python 3",
   "language": "python",
   "name": "python3"
  },
  "language_info": {
   "codemirror_mode": {
    "name": "ipython",
    "version": 3
   },
   "file_extension": ".py",
   "mimetype": "text/x-python",
   "name": "python",
   "nbconvert_exporter": "python",
   "pygments_lexer": "ipython3",
   "version": "3.9.1"
  }
 },
 "nbformat": 4,
 "nbformat_minor": 2
}
